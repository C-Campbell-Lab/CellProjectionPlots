{
 "cells": [
  {
   "cell_type": "code",
   "execution_count": null,
   "id": "636e6c9e",
   "metadata": {},
   "outputs": [],
   "source": [
    "import tensorflow as tf\n",
    "from tensorflow import keras\n",
    "from tensorflow.keras import Model, Sequential\n",
    "#from keras.layers import Input\n",
    "from tensorflow.keras.layers import Dense, Flatten, Conv2D\n",
    "import matplotlib.pyplot as plt\n",
    "import pandas as pd \n",
    "import seaborn as sns\n",
    "\n",
    "import numpy as np\n",
    "import os\n",
    "import cv2\n",
    "\n",
    "classes = [\"Neutrophil\", \"Metamyelocyte\", \"Myelocyte\", \"Promyelocyte\", \"Blast\", \"Erythroblast\",\n",
    "           \"Megakaryocyte_nucleus\", \"Lymphocyte\", \"Monocyte\", \"Plasma_cell\", \"Eosinophil\",\n",
    "           \"Basophil\", \"Megakaryocyte\", \"Other_cell\", \"Debris\", \"Histiocyte\", \"Platelet\",\n",
    "           \"Platelet_clump\", \"Mast_cell\"]"
   ]
  },
  {
   "cell_type": "code",
   "execution_count": 3,
   "id": "867170b8",
   "metadata": {},
   "outputs": [
    {
     "data": {
      "text/plain": [
       "'2.2.0'"
      ]
     },
     "execution_count": 3,
     "metadata": {},
     "output_type": "execute_result"
    }
   ],
   "source": [
    "tf.__version__"
   ]
  },
  {
   "cell_type": "markdown",
   "id": "2f15318a",
   "metadata": {},
   "source": [
    "# load the model feature extractor model.\n",
    "\n",
    "### I couldn't use tf > 2.2 due to the following error:\n",
    "\"Op type not registered 'Addons>Mish' in binary running on DESKTOP-XXXXX. Make sure the Op and Kernel are registered in the binary running in this process. Note that if you are loading a saved graph which used ops from tf.contrib, accessing (e.g.) `tf.contrib.resampler` should be done before importing the graph, as contrib ops are lazily registered when the module is first accessed.\""
   ]
  },
  {
   "cell_type": "markdown",
   "id": "1aac3e8a",
   "metadata": {},
   "source": [
    "## The feature extractor backbone of YOLO was saved into a Keras model"
   ]
  },
  {
   "cell_type": "code",
   "execution_count": 4,
   "id": "2071c699",
   "metadata": {},
   "outputs": [
    {
     "name": "stdout",
     "output_type": "stream",
     "text": [
      "WARNING:tensorflow:No training configuration found in the save file, so the model was *not* compiled. Compile it manually.\n"
     ]
    }
   ],
   "source": [
    "import tensorflow_addons as tfa\n",
    "tfa.register_all()\n",
    "\n",
    "model_path = \"C:\\\\Users\\\\taher\\\\yolov4_weight\\\\model_x.h5\"\n",
    "cpsdn53_model = keras.models.load_model(model_path)"
   ]
  },
  {
   "cell_type": "markdown",
   "id": "787ad629",
   "metadata": {},
   "source": [
    "# Image preprocessing"
   ]
  },
  {
   "cell_type": "code",
   "execution_count": 5,
   "id": "a7cda622",
   "metadata": {},
   "outputs": [],
   "source": [
    "from PIL import Image\n",
    "\n",
    "def preprocess(image_path):\n",
    "\n",
    "    image = Image.open(image_path)\n",
    "    image = np.array(image)\n",
    "    resized_image = tf.image.resize(image, (608, 608))\n",
    "    resized_image = np.array(resized_image)\n",
    "    resized_image = resized_image / 255\n",
    "    input_data = resized_image[np.newaxis, ...].astype(np.float32)\n",
    "    \n",
    "    return input_data"
   ]
  },
  {
   "cell_type": "code",
   "execution_count": null,
   "id": "588d02df",
   "metadata": {},
   "outputs": [],
   "source": [
    "predictions_directory = \"....\"\n",
    "predictions = os.listdir(predictions_directory)"
   ]
  },
  {
   "cell_type": "code",
   "execution_count": null,
   "id": "73c8dd17",
   "metadata": {},
   "outputs": [],
   "source": [
    "from IPython.display import clear_output\n",
    "from PIL import Image\n",
    "\n",
    "\n",
    "for c in classes: \n",
    "    newpath = \"cells\\\\\" + c \n",
    "    if not os.path.exists(newpath):\n",
    "        os.makedirs(newpath)\n",
    "        \n",
    "newpath = \"dfs\\\\\" \n",
    "if not os.path.exists(newpath):\n",
    "    os.makedirs(newpath)\n",
    "\n",
    "for prediction in predictions:\n",
    "    \n",
    "    yolo_pred = pd.read_csv(os.path.join(predictions_directory, prediction), index_col=0)\n",
    "    \n",
    "    image_file = prediction.replace(\"csv\", \"png\")\n",
    "    \n",
    "    image = cv2.imread(image_file)\n",
    "    input_data = preprocess(image)\n",
    "\n",
    "    features = cpsdn53_model.predict(input_data)\n",
    "    \n",
    "    cell_dfs = []\n",
    "    cell_infos = []\n",
    "    \n",
    "    for i in range(yolo_pred.shape[0]):\n",
    "        \n",
    "        xx = int(yolo_pred[\"x\"].iloc[i] * 512)\n",
    "        ww = int(yolo_pred[\"width\"].iloc[i] * 512/2)\n",
    "\n",
    "        yy = int(yolo_pred[\"y\"].iloc[i] * 512)\n",
    "        hh = int(yolo_pred[\"height\"].iloc[i] * 512/2)\n",
    "        \n",
    "        #remove cropped cells at the edges\n",
    "        periphery = False\n",
    "        if xx - ww < 5:\n",
    "            periphery = True\n",
    "        if xx + ww > 507:\n",
    "            periphery = True\n",
    "        if yy - hh < 5:\n",
    "            periphery = True\n",
    "        if yy + hh > 507:\n",
    "            periphery = True\n",
    "        \n",
    "        if periphery == False:\n",
    "            \n",
    "            cell = image[yy-hh:yy+hh, xx-ww:xx+ww,:]\n",
    "            cell = Image.fromarray(cell)\n",
    "\n",
    "            cell_loc = \"cells\" + \"\\\\\" + classes[int(yolo_pred[\"type\"].iloc[i])] + \"\\\\\" + image_file[:-4] + \"_\" + str(i) + \".png\"\n",
    "\n",
    "            cell.save(cell_loc)\n",
    "\n",
    "            cords = np.array([xx, ww, yy, hh]) * 608/512\n",
    "            cords = cords/8\n",
    "            cords = cords.astype(int)\n",
    "\n",
    "            if cords[1] == 0:\n",
    "                cords[1] = 1\n",
    "\n",
    "            if cords[3] == 0:\n",
    "                cords[3] = 1\n",
    "\n",
    "            f = features[0][0][cords[2] - cords[3]:cords[2] + cords[3], cords[0] - cords[1]:cords[0] + cords[1], :]\n",
    "            f_x = np.mean(f, axis = (0,1))\n",
    "            f_x = np.append(f_x, np.max(f, axis = (0,1)))\n",
    "            \n",
    "            cell_type = classes[int(yolo_pred[\"type\"].iloc[i])]\n",
    "            cell_index = i \n",
    "            \n",
    "            cell_infos.append([image_file, cell_index, cell_type])\n",
    "            cell_dfs.append(f_x)\n",
    "        \n",
    "        try:   \n",
    "            cell_pd = pd.DataFrame(cell_dfs)\n",
    "            info_pd = pd.DataFrame(cell_infos, columns=[\"image_file\", \"cell_index\", \"cell_type\"])\n",
    "            cell_pd = pd.concat([info_pd ,cell_pd], axis=1)\n",
    "            \n",
    "            cell_pd.to_csv(\"dfs\\\\\" + image_file.replace(\"png\", \"csv\"))\n",
    "        except:\n",
    "            pass\n",
    "        \n",
    "        \n",
    "    clear_output()        \n",
    "    progress = (predictions.index(prediction) + 1)/len(predictions)\n",
    "    progress = int(progress * 100)\n",
    "    progress_bar = \"|\" * progress\n",
    "    print(progress_bar, progress)\n",
    "    \n",
    "dfs = []\n",
    "for df in os.listdir(\"dfs\\\\\"):\n",
    "    dfs.append(pd.read_csv(\"dfs\\\\\" + df, index_col=0))\n",
    "    \n",
    "df_slide = pd.concat(dfs).reset_index(drop = True)\n",
    "\n",
    "df_slide.to_pickle(\"all_deep_features.pkl\")\n"
   ]
  }
 ],
 "metadata": {
  "kernelspec": {
   "display_name": "Python 3",
   "language": "python",
   "name": "python3"
  },
  "language_info": {
   "codemirror_mode": {
    "name": "ipython",
    "version": 3
   },
   "file_extension": ".py",
   "mimetype": "text/x-python",
   "name": "python",
   "nbconvert_exporter": "python",
   "pygments_lexer": "ipython3",
   "version": "3.8.8"
  }
 },
 "nbformat": 4,
 "nbformat_minor": 5
}
